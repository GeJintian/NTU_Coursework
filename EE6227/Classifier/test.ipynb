{
 "cells": [
  {
   "cell_type": "code",
   "execution_count": 36,
   "metadata": {},
   "outputs": [
    {
     "name": "stdout",
     "output_type": "stream",
     "text": [
      "1\n"
     ]
    }
   ],
   "source": [
    "import scipy.io as io\n",
    "import numpy as np\n",
    "from math import sqrt, exp, pi\n",
    "\n",
    "train_x = io.loadmat(\"Data_Train.mat\")[\"Data_Train\"]\n",
    "train_y = io.loadmat(\"Label_Train.mat\")[\"Label_Train\"]\n",
    "test_x = io.loadmat(\"Data_test.mat\")[\"Data_test\"]\n",
    "#train_x\n",
    "if train_y[0]==2:\n",
    "    print(\"1\")"
   ]
  },
  {
   "cell_type": "code",
   "execution_count": 38,
   "metadata": {},
   "outputs": [
    {
     "name": "stdout",
     "output_type": "stream",
     "text": [
      "[array([[13.66230486]]), array([[1.50780486]]), array([[6.14880486]]), array([[7.01113819]]), array([[7.63680486]]), array([[7.12813819]]), array([[2.53180486]]), array([[1.72397153]]), array([[0.84330486]]), array([[5.55197153]]), array([[2.47063819]]), array([[1.94163819]]), array([[2.02763819]]), array([[6.99713819]]), array([[7.34263819]]), array([[3.89813819]]), array([[7.35863819]]), array([[2.38230486]]), array([[0.71047153]]), array([[8.46680486]]), array([[0.85380486]]), array([[6.75313819]]), array([[3.67613819]]), array([[6.17980486]]), array([[1.00613819]]), array([[9.30580486]]), array([[5.82280486]]), array([[0.20547153]]), array([[6.84813819]]), array([[0.19880486]]), array([[5.67063819]]), array([[1.71397153]]), array([[6.71713819]]), array([[6.79963819]]), array([[0.20230486]]), array([[1.29897153]]), array([[8.96547153]]), array([[4.13063819]]), array([[6.23630486]]), array([[1.49047153]]), array([[1.89997153]]), array([[0.67647153]]), array([[1.31180486]]), array([[0.11080486]]), array([[1.98547153]]), array([[2.38230486]]), array([[4.55197153]]), array([[7.47897153]]), array([[6.74413819]]), array([[7.47513819]]), array([[0.54363819]]), array([[0.45630486]]), array([[7.85230486]]), array([[0.37080486]]), array([[2.52697153]]), array([[1.44647153]]), array([[3.68747153]]), array([[1.04113819]]), array([[2.08580486]]), array([[7.40613819]]), array([[10.47113819]]), array([[12.80963819]]), array([[4.62247153]]), array([[4.01763819]]), array([[6.88113819]]), array([[7.24947153]]), array([[8.30613819]]), array([[3.26597153]]), array([[9.23097153]]), array([[11.97597153]]), array([[0.25947153]]), array([[0.64630486]]), array([[8.67063819]]), array([[7.78997153]]), array([[2.13697153]]), array([[2.30963819]]), array([[1.54230486]]), array([[1.45247153]]), array([[1.43113819]]), array([[1.20080486]]), array([[3.28530486]]), array([[8.38763819]]), array([[0.28197153]]), array([[0.67697153]]), array([[2.15147153]]), array([[0.80647153]]), array([[0.80913819]]), array([[4.74080486]]), array([[2.53163819]]), array([[0.73480486]]), array([[6.94580486]]), array([[1.00897153]]), array([[5.13047153]]), array([[9.15263819]]), array([[6.97547153]]), array([[8.13913819]]), array([[5.35963819]]), array([[7.62230486]]), array([[7.04647153]]), array([[6.79413819]]), array([[3.95997153]]), array([[6.09230486]]), array([[1.32580486]]), array([[6.39313819]]), array([[5.94597153]]), array([[6.73580486]]), array([[5.57780486]]), array([[0.62480486]]), array([[0.14247153]]), array([[5.22130486]]), array([[0.57830486]]), array([[5.58763819]]), array([[7.98330486]]), array([[14.73013819]]), array([[0.17280486]]), array([[10.66680486]]), array([[0.23480486]]), array([[9.13363819]]), array([[5.36097153]]), array([[7.22230486]])]\n"
     ]
    }
   ],
   "source": [
    "def mean(numbers):\n",
    "\treturn sum(numbers)/float(len(numbers))\n",
    "def stdev(numbers):\n",
    "  avg = mean(numbers)\n",
    "  variance = sum([np.dot(np.array([x-avg]).T,np.array([x-avg])) for x in numbers])/len(numbers)\n",
    "  print([np.dot(np.array([x-avg]),np.array([x-avg]).T) for x in numbers])\n",
    "  return variance\n",
    "\n",
    "def cal_miu(c):\n",
    "  sum_x = [0]\n",
    "  for x_k in c:\n",
    "    sum_x += x_k\n",
    "  miu = sum_x/len(c)\n",
    "  return miu\n",
    "def cal_sigma(c,miu):\n",
    "  sum_covariance = [0]\n",
    "  for x_k in c:\n",
    "    a = np.array([x_k-miu])\n",
    "    sum_covariance += np.dot(a.T,a)\n",
    "  covariance = sum_covariance/len(c)\n",
    "  return covariance\n",
    "\n",
    "\n",
    "miu = cal_miu(train_x)\n",
    "sigma = cal_sigma(train_x,miu)\n",
    "#print(miu)\n",
    "#print(sigma)\n",
    "mm = mean(train_x)\n",
    "#print(mm)\n",
    "vv = stdev(train_x)\n",
    "#print(vv)"
   ]
  },
  {
   "cell_type": "code",
   "execution_count": 44,
   "metadata": {},
   "outputs": [
    {
     "name": "stdout",
     "output_type": "stream",
     "text": [
      "[0, 3]\n",
      "[24117.55950227  1356.95652813  3008.79544504  4669.84985553]\n"
     ]
    }
   ],
   "source": [
    "import heapq\n",
    "def mn(folder):\n",
    "    return sum(folder)/len(folder)\n",
    "def Si(folder):\n",
    "    avg = mn(folder)\n",
    "    return sum([np.dot(np.array([x-avg]).T,np.array([x-avg])) for x in folder])\n",
    "def Sw(d1,d2,d3):\n",
    "    return Si(d1)+Si(d2)+Si(d3)\n",
    "def Sb(train_x, d1,d2,d3):\n",
    "    avg = mn(train_x)\n",
    "    avg1 = mn(d1)\n",
    "    avg2 = mn(d2)\n",
    "    avg3 = mn(d3)\n",
    "    return len(d1)*np.dot((avg1-avg).T,avg1-avg)+len(d2)*np.dot((avg2-avg).T,avg2-avg)+len(d3)*np.dot((avg3-avg).T,avg3-avg)\n",
    "def cal_w(Sb,Sw):\n",
    "    value, vector = np.linalg.eig(np.dot(Sw.T,Sb))\n",
    "    print(heapq.nlargest(2, range(len(value)), value.take))\n",
    "    print(value)\n",
    "d1 = []\n",
    "d2 = []\n",
    "d3 = []\n",
    "for i in range(len(train_x)):\n",
    "    if train_y[i][0] == 1:\n",
    "        d1.append(train_x[i])\n",
    "    elif train_y[i][0] == 2:\n",
    "        d2.append(train_x[i])\n",
    "    else:\n",
    "        d3.append(train_x[i])\n",
    "\n",
    "SW = Sw(d1,d2,d3)\n",
    "SB = Sb(train_x,d1,d2,d3)\n",
    "cal_w(SB,SW)"
   ]
  },
  {
   "cell_type": "code",
   "execution_count": null,
   "metadata": {},
   "outputs": [],
   "source": []
  }
 ],
 "metadata": {
  "interpreter": {
   "hash": "12ca9f8c57893a8d8acd992ed91d3a4a3706640f6caff944db94bbbd05049c25"
  },
  "kernelspec": {
   "display_name": "Python 3.9.7 ('base')",
   "language": "python",
   "name": "python3"
  },
  "language_info": {
   "codemirror_mode": {
    "name": "ipython",
    "version": 3
   },
   "file_extension": ".py",
   "mimetype": "text/x-python",
   "name": "python",
   "nbconvert_exporter": "python",
   "pygments_lexer": "ipython3",
   "version": "3.9.7"
  },
  "orig_nbformat": 4
 },
 "nbformat": 4,
 "nbformat_minor": 2
}
